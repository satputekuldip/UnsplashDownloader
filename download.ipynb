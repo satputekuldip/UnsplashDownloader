{
 "metadata": {
  "language_info": {
   "codemirror_mode": {
    "name": "ipython",
    "version": 3
   },
   "file_extension": ".py",
   "mimetype": "text/x-python",
   "name": "python",
   "nbconvert_exporter": "python",
   "pygments_lexer": "ipython3",
   "version": "3.8.4-final"
  },
  "orig_nbformat": 2,
  "kernelspec": {
   "name": "python_defaultSpec_1597948409101",
   "display_name": "Python 3.8.4 64-bit"
  }
 },
 "nbformat": 4,
 "nbformat_minor": 2,
 "cells": [
  {
   "cell_type": "code",
   "execution_count": 26,
   "metadata": {},
   "outputs": [],
   "source": [
    "import urllib\n",
    "import requests"
   ]
  },
  {
   "cell_type": "code",
   "execution_count": 27,
   "metadata": {},
   "outputs": [],
   "source": [
    "for i in range(40):\n",
    "    response = requests.get('https://api.unsplash.com/search/photos/?query=Beautiful%20girl&orientation=squarish&client_id=HUCBWGQyCnWdjXPfwcCGTEQriWKEdWLGHB5-waIYnlw&page=' + str(i))\n",
    "    res_json = response.json()\n",
    "    for img in res_json['results']:\n",
    "        urllib.request.urlretrieve(img['urls']['regular'],'/Users/spark/Pictures/imgs/' + img['id'] + '.jpg')"
   ]
  }
 ]
}